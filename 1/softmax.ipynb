{
 "cells": [
  {
   "cell_type": "markdown",
   "metadata": {
    "collapsed": true
   },
   "source": [
    "## Softmax "
   ]
  },
  {
   "cell_type": "code",
   "execution_count": 13,
   "metadata": {
    "collapsed": false
   },
   "outputs": [
    {
     "name": "stdout",
     "output_type": "stream",
     "text": [
      "(60000, 784) (10, 60000)\n"
     ]
    }
   ],
   "source": [
    "# Data loading\n",
    "\n",
    "from mnist import MNIST\n",
    "\n",
    "mndata = MNIST('data')\n",
    "training_set = mndata.load_training()\n",
    "\n",
    "inputs = np.array(training_set[0])\n",
    "dim = len(training_set[0][0])\n",
    "size = len(training_set[1])\n",
    "targets = np.zeros((10, size))\n",
    "targets[training_set[1], range(size)] = 1\n",
    "\n",
    "print(inputs.shape, targets.shape)"
   ]
  },
  {
   "cell_type": "code",
   "execution_count": 24,
   "metadata": {
    "collapsed": false
   },
   "outputs": [],
   "source": [
    "import numpy as np\n",
    "\n",
    "class Softmax(object):\n",
    "    def __init__(self, dim, inputs, targets, c=10):\n",
    "        self.weight = np.zeros((dim,c))\n",
    "        self.inputs = inputs\n",
    "        self.targets = targets\n",
    "    \n",
    "    def activation_function(self, z):\n",
    "        return np.exp(z) / np.sum(np.exp(z),axis=0)\n",
    "    \n",
    "    def gradient(self):\n",
    "        t = self.targets\n",
    "        y = self.output()\n",
    "        x = self.inputs\n",
    "        return (-(np.matrix(t) -np.matrix(y))* (np.matrix(x))).T\n",
    "    \n",
    "    def loss_function(self):\n",
    "        t = self.targets\n",
    "        y = np.array(self.output())\n",
    "        return float(-np.sum(np.nan_to_num(t* np.log(y)))/len(training_set[1]))\n",
    "\n",
    "    def output(self):\n",
    "        f = self.activation_function\n",
    "        w = self.weight\n",
    "        x = self.inputs\n",
    "        return f(np.matmul(x, w).T)\n",
    "\n",
    "    def update(self, rate):\n",
    "        self.weight = self.weight - rate * self.gradient()"
   ]
  },
  {
   "cell_type": "code",
   "execution_count": 32,
   "metadata": {
    "collapsed": false
   },
   "outputs": [
    {
     "name": "stderr",
     "output_type": "stream",
     "text": [
      "/Users/xly/miniconda3/envs/py3/lib/python3.5/site-packages/ipykernel/__main__.py:10: RuntimeWarning: overflow encountered in exp\n",
      "/Users/xly/miniconda3/envs/py3/lib/python3.5/site-packages/ipykernel/__main__.py:10: RuntimeWarning: invalid value encountered in true_divide\n",
      "/Users/xly/miniconda3/envs/py3/lib/python3.5/site-packages/ipykernel/__main__.py:21: RuntimeWarning: divide by zero encountered in log\n",
      "/Users/xly/miniconda3/envs/py3/lib/python3.5/site-packages/ipykernel/__main__.py:21: RuntimeWarning: invalid value encountered in multiply\n"
     ]
    },
    {
     "data": {
      "text/plain": [
       "inf"
      ]
     },
     "execution_count": 32,
     "metadata": {},
     "output_type": "execute_result"
    }
   ],
   "source": [
    "nn = Softmax(dim, inputs, targets)\n",
    "#nn.update(rate=1)\n",
    "nn.loss_function()   "
   ]
  },
  {
   "cell_type": "code",
   "execution_count": 29,
   "metadata": {
    "collapsed": false
   },
   "outputs": [
    {
     "data": {
      "text/plain": [
       "-0.0"
      ]
     },
     "execution_count": 29,
     "metadata": {},
     "output_type": "execute_result"
    }
   ],
   "source": [
    "nn.update(rate=1)\n",
    "nn.loss_function()"
   ]
  },
  {
   "cell_type": "code",
   "execution_count": 26,
   "metadata": {
    "collapsed": false
   },
   "outputs": [
    {
     "name": "stdout",
     "output_type": "stream",
     "text": [
      "<class 'numpy.ndarray'>\n",
      "<class 'numpy.ndarray'>\n"
     ]
    },
    {
     "name": "stderr",
     "output_type": "stream",
     "text": [
      "/Users/xly/miniconda3/envs/py3/lib/python3.5/site-packages/ipykernel/__main__.py:10: RuntimeWarning: overflow encountered in exp\n",
      "/Users/xly/miniconda3/envs/py3/lib/python3.5/site-packages/ipykernel/__main__.py:10: RuntimeWarning: invalid value encountered in true_divide\n",
      "/Users/xly/miniconda3/envs/py3/lib/python3.5/site-packages/ipykernel/__main__.py:5: RuntimeWarning: divide by zero encountered in log\n",
      "/Users/xly/miniconda3/envs/py3/lib/python3.5/site-packages/ipykernel/__main__.py:5: RuntimeWarning: invalid value encountered in multiply\n"
     ]
    },
    {
     "data": {
      "text/plain": [
       "-inf"
      ]
     },
     "execution_count": 26,
     "metadata": {},
     "output_type": "execute_result"
    }
   ],
   "source": [
    "t = targets\n",
    "print(type(t))\n",
    "y = np.array(nn.output())\n",
    "print(type(y))\n",
    "np.sum(np.nan_to_num(t* np.log(y)))"
   ]
  },
  {
   "cell_type": "code",
   "execution_count": null,
   "metadata": {
    "collapsed": true
   },
   "outputs": [],
   "source": []
  }
 ],
 "metadata": {
  "anaconda-cloud": {},
  "kernelspec": {
   "display_name": "Python [conda env:py3]",
   "language": "python",
   "name": "conda-env-py3-py"
  },
  "language_info": {
   "codemirror_mode": {
    "name": "ipython",
    "version": 3
   },
   "file_extension": ".py",
   "mimetype": "text/x-python",
   "name": "python",
   "nbconvert_exporter": "python",
   "pygments_lexer": "ipython3",
   "version": "3.5.2"
  }
 },
 "nbformat": 4,
 "nbformat_minor": 2
}
