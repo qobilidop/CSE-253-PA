{
 "cells": [
  {
   "cell_type": "code",
   "execution_count": 538,
   "metadata": {
    "collapsed": false
   },
   "outputs": [
    {
     "name": "stdout",
     "output_type": "stream",
     "text": [
      "0.141666666667\n",
      "2.3634514394\n",
      "0.142166666667\n",
      "2.35571809949\n"
     ]
    }
   ],
   "source": [
    "from network import Network\n",
    "nn = Network([785, 100, 10])\n",
    "from data import read_data_sets\n",
    "ds = read_data_sets(one_hot=True)\n",
    "#print(nn.L)\n",
    "#print(nn.w[2].shape)\n",
    "nn.initialize()\n",
    "#nn.update(ds.train.images, ds.train.labels, 1)\n",
    "print(nn.percent_correct(ds.train.images, ds.train.labels))\n",
    "print(nn.loss(ds.train.images, ds.train.labels))\n",
    "\n",
    "epochs = 1\n",
    "for i in range(epochs):\n",
    "    images = ds.train.images[20000 * i : 20000 * (i + 1) - 1, :]\n",
    "    labels = ds.train.labels[20000 * i : 20000 * (i + 1) - 1, :]\n",
    "    nn.update(images, labels, 0.000001)\n",
    "    print(nn.percent_correct(images, labels))\n",
    "    print(nn.loss(images, labels))"
   ]
  },
  {
   "cell_type": "code",
   "execution_count": 639,
   "metadata": {
    "collapsed": false
   },
   "outputs": [
    {
     "name": "stdout",
     "output_type": "stream",
     "text": [
      "0.836833333333\n"
     ]
    }
   ],
   "source": [
    "#epochs = 10\n",
    "#for i in range(epochs):\n",
    "i = 0\n",
    "images = ds.train.images[20000 * i : 20000 * (i + 1) - 1, :]\n",
    "labels = ds.train.labels[20000 * i : 20000 * (i + 1) - 1, :]\n",
    "nn.update(images, labels, 0.00001)\n",
    "print(nn.percent_correct(images, labels))\n",
    "#print(nn.loss(images, labels))"
   ]
  },
  {
   "cell_type": "code",
   "execution_count": 533,
   "metadata": {
    "collapsed": false
   },
   "outputs": [],
   "source": [
    "import numpy as np\n",
    "x = np.array([[1, 2], [3, 4]])"
   ]
  },
  {
   "cell_type": "code",
   "execution_count": null,
   "metadata": {
    "collapsed": true
   },
   "outputs": [],
   "source": []
  }
 ],
 "metadata": {
  "anaconda-cloud": {},
  "kernelspec": {
   "display_name": "Python [conda env:py3]",
   "language": "python",
   "name": "conda-env-py3-py"
  },
  "language_info": {
   "codemirror_mode": {
    "name": "ipython",
    "version": 3
   },
   "file_extension": ".py",
   "mimetype": "text/x-python",
   "name": "python",
   "nbconvert_exporter": "python",
   "pygments_lexer": "ipython3",
   "version": "3.5.2"
  }
 },
 "nbformat": 4,
 "nbformat_minor": 2
}
